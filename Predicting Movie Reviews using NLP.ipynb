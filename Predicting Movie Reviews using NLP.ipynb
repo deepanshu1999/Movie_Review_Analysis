{
 "cells": [
  {
   "cell_type": "code",
   "execution_count": 1,
   "metadata": {},
   "outputs": [],
   "source": [
    "import numpy as nm\n",
    "import os"
   ]
  },
  {
   "cell_type": "code",
   "execution_count": 2,
   "metadata": {},
   "outputs": [],
   "source": [
    "limit_train=100#Max=12500\n",
    "limit_test=10#Max=12500\n",
    "path='/home/deepanshu/aclImdb/'\n",
    "# Change Accordingly"
   ]
  },
  {
   "cell_type": "code",
   "execution_count": 3,
   "metadata": {},
   "outputs": [],
   "source": [
    "# Importing Training Data Negative Reviews\n",
    "\n",
    "fileList = os.listdir(path+'train/neg')\n",
    "neg_data=[]\n",
    "k=0\n",
    "for eachFile in fileList:\n",
    "    with open(path+'train/neg/'+eachFile, 'rb') as _fp:\n",
    "        fileData = _fp.read()\n",
    "        neg_data.append(fileData.decode(\"utf-8\"))\n",
    "        k+=1\n",
    "    if(k==limit_train):\n",
    "        break"
   ]
  },
  {
   "cell_type": "code",
   "execution_count": 4,
   "metadata": {},
   "outputs": [],
   "source": [
    "# Importing Training Data Positive Reviews\n",
    "fileList = os.listdir(path+'train/pos')\n",
    "\n",
    "pos_data=[]\n",
    "k=0\n",
    "for eachFile in fileList:\n",
    "    with open(path+'train/pos/'+eachFile, 'rb') as _fp:\n",
    "        fileData = _fp.read()\n",
    "        pos_data.append(fileData.decode(\"utf-8\"))\n",
    "        k+=1\n",
    "    if(k==limit_train):\n",
    "        break"
   ]
  },
  {
   "cell_type": "code",
   "execution_count": 5,
   "metadata": {},
   "outputs": [],
   "source": [
    "# Importing test negative reviews\n",
    "fileList = os.listdir(path+'test/neg')\n",
    "neg_data_test=[]\n",
    "k=0\n",
    "for eachFile in fileList:\n",
    "    with open(path+'test/neg/'+eachFile, 'rb') as _fp:\n",
    "        fileData = _fp.read()\n",
    "        neg_data_test.append(fileData.decode(\"utf-8\"))\n",
    "        k+=1\n",
    "    if(k==limit_test):\n",
    "        break\n"
   ]
  },
  {
   "cell_type": "code",
   "execution_count": 6,
   "metadata": {},
   "outputs": [
    {
     "data": {
      "text/plain": [
       "10"
      ]
     },
     "execution_count": 6,
     "metadata": {},
     "output_type": "execute_result"
    }
   ],
   "source": [
    "# Importing test positive reviews \n",
    "fileList = os.listdir(path+'test/pos')\n",
    "\n",
    "pos_data_test=[]\n",
    "k=0\n",
    "for eachFile in fileList:\n",
    "    with open(path+'test/pos/'+eachFile, 'rb') as _fp:\n",
    "        fileData = _fp.read()\n",
    "        pos_data_test.append(fileData.decode(\"utf-8\"))\n",
    "        k+=1\n",
    "    if(k==limit_test):\n",
    "        break\n",
    "len(pos_data_test)"
   ]
  },
  {
   "cell_type": "code",
   "execution_count": 7,
   "metadata": {},
   "outputs": [
    {
     "name": "stdout",
     "output_type": "stream",
     "text": [
      "[nltk_data] Downloading package stopwords to\n",
      "[nltk_data]     /home/deepanshu/nltk_data...\n",
      "[nltk_data]   Package stopwords is already up-to-date!\n"
     ]
    }
   ],
   "source": [
    "import re\n",
    "import nltk\n",
    "from nltk.corpus import stopwords\n",
    "nltk.download('stopwords')#Downloading Stopwords\n",
    "with open(path+'imdb.vocab', 'rb') as _fp:\n",
    "        vocab = _fp.read()\n",
    "vocab=vocab.decode(\"utf-8\")\n",
    "vocab=re.sub('[^a-zA-Z]',' ',vocab)\n",
    "vocab=vocab.split()\n",
    "# can use vocab insead of Stopwords"
   ]
  },
  {
   "cell_type": "code",
   "execution_count": 8,
   "metadata": {},
   "outputs": [],
   "source": [
    "\n",
    "from nltk.stem.porter import PorterStemmer\n",
    "corpus_neg=[]\n",
    "corpus_pos=[]\n"
   ]
  },
  {
   "cell_type": "code",
   "execution_count": 9,
   "metadata": {},
   "outputs": [],
   "source": [
    "corpus_neg_test=[]\n",
    "corpus_pos_test=[]"
   ]
  },
  {
   "cell_type": "code",
   "execution_count": 10,
   "metadata": {},
   "outputs": [],
   "source": [
    "for i in range(limit_train):\n",
    "    review=re.sub('[^a-zA-Z]',' ',neg_data[i])# Removing extra characters\n",
    "    review=review.lower()# lowecase\n",
    "    review=review.split()# splitting into words\n",
    "    ps=PorterStemmer()\n",
    "    review=[ps.stem(word) for word in review if not word in set(stopwords.words('english'))]# All useful words in same tense\n",
    "    review=' '.join(review)#join to form sentence\n",
    "    corpus_neg.append(review)"
   ]
  },
  {
   "cell_type": "code",
   "execution_count": 11,
   "metadata": {},
   "outputs": [],
   "source": [
    "for i in range(limit_train):\n",
    "    review=re.sub('[^a-zA-Z]',' ',pos_data[i])\n",
    "    review=review.lower()\n",
    "    review=review.split()\n",
    "    ps=PorterStemmer()\n",
    "    review=[ps.stem(word) for word in review if not word in set(stopwords.words('english'))]\n",
    "    review=' '.join(review)\n",
    "    corpus_pos.append(review)"
   ]
  },
  {
   "cell_type": "code",
   "execution_count": 12,
   "metadata": {},
   "outputs": [
    {
     "data": {
      "text/plain": [
       "10"
      ]
     },
     "execution_count": 12,
     "metadata": {},
     "output_type": "execute_result"
    }
   ],
   "source": [
    "for i in range(limit_test):\n",
    "    review=re.sub('[^a-zA-Z]',' ',pos_data_test[i])\n",
    "    review=review.lower()\n",
    "    review=review.split()\n",
    "    ps=PorterStemmer()\n",
    "    review=[ps.stem(word) for word in review if not word in set(stopwords.words('english'))]\n",
    "    review=' '.join(review)\n",
    "    corpus_pos_test.append(review)\n",
    "len(corpus_pos_test)"
   ]
  },
  {
   "cell_type": "code",
   "execution_count": 13,
   "metadata": {},
   "outputs": [],
   "source": [
    "for i in range(limit_test):\n",
    "    review=re.sub('[^a-zA-Z]',' ',neg_data_test[i])\n",
    "    review=review.lower()\n",
    "    review=review.split()\n",
    "    ps=PorterStemmer()\n",
    "    review=[ps.stem(word) for word in review if not word in set(stopwords.words('english'))]\n",
    "    review=' '.join(review)\n",
    "    corpus_neg_test.append(review)\n"
   ]
  },
  {
   "cell_type": "code",
   "execution_count": 14,
   "metadata": {},
   "outputs": [],
   "source": [
    "corpus=[]\n",
    "y=[]\n",
    "for i in range(limit_train):\n",
    "    corpus.append(neg_data[i])\n",
    "    corpus.append(pos_data[i])\n",
    "    y.append(0)\n",
    "    y.append(1)\n",
    "for i in range(limit_test):\n",
    "    corpus.append(neg_data_test[i])\n",
    "    corpus.append(pos_data_test[i])\n",
    "    y.append(0)\n",
    "    y.append(1)\n",
    "# Making Single Corpus"
   ]
  },
  {
   "cell_type": "code",
   "execution_count": 15,
   "metadata": {},
   "outputs": [],
   "source": [
    "# Count Vectorization for Classification model\n",
    "from sklearn.feature_extraction.text import CountVectorizer\n",
    "cv=CountVectorizer()\n",
    "X=cv.fit_transform(corpus).toarray()"
   ]
  },
  {
   "cell_type": "code",
   "execution_count": 16,
   "metadata": {},
   "outputs": [
    {
     "data": {
      "text/plain": [
       "GaussianNB(priors=None)"
      ]
     },
     "execution_count": 16,
     "metadata": {},
     "output_type": "execute_result"
    }
   ],
   "source": [
    "from sklearn.naive_bayes import GaussianNB\n",
    "classifier=GaussianNB()\n",
    "classifier.fit(X[:limit_train*2],y[:limit_train*2])\n"
   ]
  },
  {
   "cell_type": "code",
   "execution_count": 17,
   "metadata": {},
   "outputs": [],
   "source": [
    "y_pred = classifier.predict(X[limit_train*2:])"
   ]
  },
  {
   "cell_type": "code",
   "execution_count": 18,
   "metadata": {},
   "outputs": [
    {
     "name": "stdout",
     "output_type": "stream",
     "text": [
      "[[7 3]\n",
      " [3 7]]\n",
      "0.7\n"
     ]
    }
   ],
   "source": [
    "from sklearn.metrics import confusion_matrix\n",
    "cm=confusion_matrix(y[limit_train*2:],y_pred)\n",
    "print(cm)\n",
    "accuracy=(cm[0][0]+cm[1][1])/(cm[0][0]+cm[0][1]+cm[1][0]+cm[1][1])\n",
    "print(accuracy)"
   ]
  },
  {
   "cell_type": "code",
   "execution_count": 19,
   "metadata": {},
   "outputs": [],
   "source": [
    "#Accuracy=70%"
   ]
  },
  {
   "cell_type": "code",
   "execution_count": null,
   "metadata": {},
   "outputs": [],
   "source": []
  },
  {
   "cell_type": "code",
   "execution_count": null,
   "metadata": {},
   "outputs": [],
   "source": []
  },
  {
   "cell_type": "code",
   "execution_count": null,
   "metadata": {},
   "outputs": [],
   "source": []
  }
 ],
 "metadata": {
  "kernelspec": {
   "display_name": "Python 3",
   "language": "python",
   "name": "python3"
  },
  "language_info": {
   "codemirror_mode": {
    "name": "ipython",
    "version": 3
   },
   "file_extension": ".py",
   "mimetype": "text/x-python",
   "name": "python",
   "nbconvert_exporter": "python",
   "pygments_lexer": "ipython3",
   "version": "3.6.5"
  }
 },
 "nbformat": 4,
 "nbformat_minor": 2
}
